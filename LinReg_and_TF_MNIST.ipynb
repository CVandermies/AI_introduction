{
  "nbformat": 4,
  "nbformat_minor": 0,
  "metadata": {
    "colab": {
      "name": "AI5L_Lab3.ipynb",
      "provenance": [],
      "collapsed_sections": []
    },
    "kernelspec": {
      "name": "python3",
      "display_name": "Python 3"
    },
    "language_info": {
      "name": "python"
    }
  },
  "cells": [
    {
      "cell_type": "code",
      "metadata": {
        "id": "r2L4CogrBszc"
      },
      "source": [
        "#repo https://github.com/CVandermies/AI_introduction\n",
        "\n",
        "import tensorflow as tf\n",
        "import numpy as np\n",
        "import matplotlib.pyplot as plt"
      ],
      "execution_count": 49,
      "outputs": []
    },
    {
      "cell_type": "code",
      "metadata": {
        "colab": {
          "base_uri": "https://localhost:8080/"
        },
        "id": "koIqVF9nEDVt",
        "outputId": "3cbb771f-73a8-41a2-9c3d-267c49df07fd"
      },
      "source": [
        "# In TensorFlow 2, you can compile a function into a TensorFlow graph by using a simple decorator :\n",
        "\n",
        "m = tf.Variable(1.0, name='m')\n",
        "p = tf.Variable(1.0, name='p')\n",
        "\n",
        "@tf.function\n",
        "def linear(x):\n",
        "\treturn m*x + p\n",
        "\n",
        "# tf.functions take tf.Tensor as arguments\n",
        "# with scalar\n",
        "tf.print(linear(tf.constant(1.0)))\n",
        "\n",
        "# and with list\n",
        "tf.print(linear(tf.constant([2.0, 3.0, 6.0])))"
      ],
      "execution_count": 50,
      "outputs": [
        {
          "output_type": "stream",
          "text": [
            "2\n",
            "[3 4 7]\n"
          ],
          "name": "stdout"
        }
      ]
    },
    {
      "cell_type": "code",
      "metadata": {
        "colab": {
          "base_uri": "https://localhost:8080/"
        },
        "id": "yZ0fKxcoEeEs",
        "outputId": "4ec034af-e930-4e92-dbbe-66eec469a519"
      },
      "source": [
        "# Train the model : the loss function (evaluate the likeliness between predictions and expected values)\n",
        "\n",
        "@tf.function\n",
        "def loss_function(expected_output, output):\n",
        "\treturn (expected_output - output) ** 2\n",
        "\n",
        "# Compute gradient of x² for x = 3\n",
        "x = tf.Variable(4.0)\n",
        "\n",
        "with tf.GradientTape() as tape:\n",
        "\ty = x**2\n",
        "\n",
        "dy_dx = tape.gradient(y, x)\n",
        "tf.print(dy_dx)     # print 6"
      ],
      "execution_count": 51,
      "outputs": [
        {
          "output_type": "stream",
          "text": [
            "8\n"
          ],
          "name": "stdout"
        }
      ]
    },
    {
      "cell_type": "code",
      "metadata": {
        "id": "df1aR3oSMnuq"
      },
      "source": [
        "@tf.function\n",
        "def train_step(input_value, expected_output):\n",
        "\twith tf.GradientTape() as tape:\n",
        "\t\tloss = loss_function(expected_output, linear(input_value))\n",
        "\tgrads = tape.gradient(loss, [m, p])\n",
        "\n",
        "\t# We descent of 1 hundredth of the gradient\n",
        "\tm.assign_sub(0.01*grads[0])\n",
        "\tp.assign_sub(0.01*grads[1])"
      ],
      "execution_count": 52,
      "outputs": []
    },
    {
      "cell_type": "code",
      "metadata": {
        "colab": {
          "base_uri": "https://localhost:8080/",
          "height": 265
        },
        "id": "kxz2B8ywNCpJ",
        "outputId": "9f206118-2d5a-49ce-e3a4-d16eb945ae53"
      },
      "source": [
        "# tf.functions expect float32\n",
        "# we create 100 data points\n",
        "# we use m=0.5 and p=2\n",
        "input_values = np.float32(np.random.rand(100)*2)\n",
        "expected_outputs = np.float32(0.5*input_values + 2 + (np.random.rand(100)*0.1-0.05))\n",
        "\n",
        "# display data points\n",
        "plt.scatter(input_values, expected_outputs, label='data')\n",
        "plt.show()"
      ],
      "execution_count": 53,
      "outputs": [
        {
          "output_type": "display_data",
          "data": {
            "image/png": "[encoded data removed]",
            "text/plain": [
              "<Figure size 432x288 with 1 Axes>"
            ]
          },
          "metadata": {
            "tags": [],
            "needs_background": "light"
          }
        }
      ]
    },
    {
      "cell_type": "code",
      "metadata": {
        "id": "84XI_TU2QNGk"
      },
      "source": [
        "input_values_batches = np.reshape(input_values, (10, 10))\n",
        "expected_outputs_batches = np.reshape(expected_outputs, (10, 10))"
      ],
      "execution_count": 54,
      "outputs": []
    },
    {
      "cell_type": "code",
      "metadata": {
        "colab": {
          "base_uri": "https://localhost:8080/",
          "height": 299
        },
        "id": "3kvwm8CBRTwh",
        "outputId": "3acd96b3-bd8c-499f-eb83-13d3f42d06f1"
      },
      "source": [
        "# We'll record values for p and m to plot their evolutions\n",
        "p_values = []\n",
        "m_values = []\n",
        "for epoch in range(15):\n",
        "\tfor input_value, expected_output in zip(input_values_batches, expected_outputs_batches):\n",
        "\t\ttrain_step(input_value, expected_output)\n",
        "\t\tp_values.append(p.numpy())\n",
        "\t\tm_values.append(m.numpy())\n",
        "\n",
        "# display final values\n",
        "tf.print('p =', p)   # p = 1.97727704\n",
        "tf.print('m =', m)   # m = 0.521407127\n",
        "\n",
        "# plot values evolution during the training\n",
        "plt.plot(m_values, label='m')\n",
        "plt.plot(p_values, label='p')\n",
        "plt.legend()\n",
        "plt.show()"
      ],
      "execution_count": 55,
      "outputs": [
        {
          "output_type": "stream",
          "text": [
            "p = 1.98777449\n",
            "m = 0.514456451\n"
          ],
          "name": "stdout"
        },
        {
          "output_type": "display_data",
          "data": {
            "image/png": "[encoded data removed]",
            "text/plain": [
              "<Figure size 432x288 with 1 Axes>"
            ]
          },
          "metadata": {
            "tags": [],
            "needs_background": "light"
          }
        }
      ]
    },
    {
      "cell_type": "code",
      "metadata": {
        "id": "-bSsOw1ASnei"
      },
      "source": [
        "# En simplifiant:\n",
        "\n",
        "class Linear(tf.keras.Model):\n",
        "\tdef __init__(self):\n",
        "\t\tsuper(Linear, self).__init__()\n",
        "\t\tself.m = tf.Variable(1.0, name='m')\n",
        "\t\tself.p = tf.Variable(1.0, name='p')\n",
        "\n",
        "\tdef call(self, x):\n",
        "\t\treturn self.m * x + self.p\n",
        "\n",
        "model = Linear()"
      ],
      "execution_count": 56,
      "outputs": []
    },
    {
      "cell_type": "code",
      "metadata": {
        "colab": {
          "base_uri": "https://localhost:8080/",
          "height": 809
        },
        "id": "sctiIIASna5O",
        "outputId": "d5ac0fc7-a353-4549-d320-1c1c10e02c95"
      },
      "source": [
        "model.compile(\n",
        "\toptimizer = tf.keras.optimizers.SGD(0.1),\n",
        "\tloss=tf.keras.losses.MeanSquaredError()\n",
        ")\n",
        "\n",
        "model.fit(\n",
        "\tinput_values,\n",
        "\texpected_outputs,\n",
        "\tbatch_size = 10,\n",
        "\tepochs = 15\n",
        ")\n",
        "\n",
        "tf.print(\"model.m=\", model.m)\n",
        "tf.print(\"model.p=\", model.p)\n",
        "\n",
        "plt.scatter(input_values, expected_outputs, label='data')\n",
        "plt.plot([0, 2], [model.p, model.m*2+model.p])\n",
        "plt.show()"
      ],
      "execution_count": 57,
      "outputs": [
        {
          "output_type": "stream",
          "text": [
            "Epoch 1/15\n",
            "10/10 [==============================] - 0s 1ms/step - loss: 0.1859\n",
            "Epoch 2/15\n",
            "10/10 [==============================] - 0s 1ms/step - loss: 0.0812\n",
            "Epoch 3/15\n",
            "10/10 [==============================] - 0s 2ms/step - loss: 0.0477\n",
            "Epoch 4/15\n",
            "10/10 [==============================] - 0s 1ms/step - loss: 0.0295\n",
            "Epoch 5/15\n",
            "10/10 [==============================] - 0s 2ms/step - loss: 0.0147\n",
            "Epoch 6/15\n",
            "10/10 [==============================] - 0s 1ms/step - loss: 0.0073\n",
            "Epoch 7/15\n",
            "10/10 [==============================] - 0s 1ms/step - loss: 0.0052\n",
            "Epoch 8/15\n",
            "10/10 [==============================] - 0s 1ms/step - loss: 0.0029\n",
            "Epoch 9/15\n",
            "10/10 [==============================] - 0s 2ms/step - loss: 0.0025\n",
            "Epoch 10/15\n",
            "10/10 [==============================] - 0s 1ms/step - loss: 0.0017\n",
            "Epoch 11/15\n",
            "10/10 [==============================] - 0s 1ms/step - loss: 0.0014\n",
            "Epoch 12/15\n",
            "10/10 [==============================] - 0s 2ms/step - loss: 0.0011\n",
            "Epoch 13/15\n",
            "10/10 [==============================] - 0s 2ms/step - loss: 8.3132e-04\n",
            "Epoch 14/15\n",
            "10/10 [==============================] - 0s 2ms/step - loss: 7.2285e-04\n",
            "Epoch 15/15\n",
            "10/10 [==============================] - 0s 1ms/step - loss: 7.4050e-04\n",
            "model.m= 0.519844115\n",
            "model.p= 1.99069035\n"
          ],
          "name": "stdout"
        },
        {
          "output_type": "display_data",
          "data": {
            "image/png": "[encoded data removed]",
            "text/plain": [
              "<Figure size 432x288 with 1 Axes>"
            ]
          },
          "metadata": {
            "tags": [],
            "needs_background": "light"
          }
        }
      ]
    },
    {
      "cell_type": "code",
      "metadata": {
        "id": "bmc5-wE7n3gZ"
      },
      "source": [
        "################\n",
        "# Partie MNIST #\n",
        "################\n",
        "\n",
        "from tensorflow.keras.layers import Dense, Flatten, Conv2D\n",
        "from tensorflow.keras import Model"
      ],
      "execution_count": 58,
      "outputs": []
    },
    {
      "cell_type": "code",
      "metadata": {
        "id": "c30nEc5loHI4"
      },
      "source": [
        "# Charger et préparer le jeu de données MNIST\n",
        "\n",
        "mnist = tf.keras.datasets.mnist\n",
        "\n",
        "(x_train, y_train), (x_test, y_test) = mnist.load_data()\n",
        "x_train, x_test = x_train / 255.0, x_test / 255.0\n",
        "\n",
        "# Add a channels dimension\n",
        "x_train = x_train[..., tf.newaxis].astype(\"float32\")\n",
        "x_test = x_test[..., tf.newaxis].astype(\"float32\")"
      ],
      "execution_count": 59,
      "outputs": []
    },
    {
      "cell_type": "code",
      "metadata": {
        "id": "ONJegjVmHoc0"
      },
      "source": [
        "# Utiliser tf.data pour tf.data et mélanger l'ensemble de données:\n",
        "\n",
        "train_ds = tf.data.Dataset.from_tensor_slices(\n",
        "    (x_train, y_train)).shuffle(10000).batch(32)\n",
        "\n",
        "test_ds = tf.data.Dataset.from_tensor_slices((x_test, y_test)).batch(32)"
      ],
      "execution_count": 60,
      "outputs": []
    },
    {
      "cell_type": "code",
      "metadata": {
        "id": "j1Fbd26fJngC"
      },
      "source": [
        " # Créer le modèle tf.keras à l'aide de l' API de sous-classification du modèle Keras:\n",
        " \n",
        " class MyModel(Model):\n",
        "  def __init__(self):\n",
        "    super(MyModel, self).__init__()\n",
        "    self.conv1 = Conv2D(32, 3, activation='relu')\n",
        "    self.flatten = Flatten()\n",
        "    self.d1 = Dense(128, activation='relu')\n",
        "    self.d2 = Dense(10)\n",
        "\n",
        "  def call(self, x):\n",
        "    x = self.conv1(x)\n",
        "    x = self.flatten(x)\n",
        "    x = self.d1(x)\n",
        "    return self.d2(x)\n",
        "\n",
        "# Create an instance of the model\n",
        "model = MyModel()"
      ],
      "execution_count": 61,
      "outputs": []
    },
    {
      "cell_type": "code",
      "metadata": {
        "id": "6DLJQ29VHyuq"
      },
      "source": [
        "# Choisir un optimiseur et une fonction de perte pour l'entraînement:\n",
        "\n",
        "loss_object = tf.keras.losses.SparseCategoricalCrossentropy(from_logits=True)\n",
        "optimizer = tf.keras.optimizers.Adam()"
      ],
      "execution_count": 62,
      "outputs": []
    },
    {
      "cell_type": "code",
      "metadata": {
        "id": "rocxS_zzqFAg"
      },
      "source": [
        "# Sélectionner des métriques pour mesurer la perte et la précision du modèle.\n",
        "# Ces métriques accumulent les valeurs au fil des époques, puis impriment le résultat global.\n",
        "\n",
        "train_loss = tf.keras.metrics.Mean(name='train_loss')\n",
        "train_accuracy = tf.keras.metrics.SparseCategoricalAccuracy(name='train_accuracy')\n",
        "\n",
        "test_loss = tf.keras.metrics.Mean(name='test_loss')\n",
        "test_accuracy = tf.keras.metrics.SparseCategoricalAccuracy(name='test_accuracy')"
      ],
      "execution_count": 63,
      "outputs": []
    },
    {
      "cell_type": "code",
      "metadata": {
        "id": "Wclk7DSwqT0F"
      },
      "source": [
        "# Utiliser tf.GradientTape pour entraîner le modèle:\n",
        "\n",
        "@tf.function\n",
        "def train_step(images, labels):\n",
        "  with tf.GradientTape() as tape:\n",
        "    # training=True is only needed if there are layers with different\n",
        "    # behavior during training versus inference (e.g. Dropout).\n",
        "    predictions = model(images, training=True)\n",
        "    loss = loss_object(labels, predictions)\n",
        "  gradients = tape.gradient(loss, model.trainable_variables)\n",
        "  optimizer.apply_gradients(zip(gradients, model.trainable_variables))\n",
        "\n",
        "  train_loss(loss)\n",
        "  train_accuracy(labels, predictions)"
      ],
      "execution_count": 64,
      "outputs": []
    },
    {
      "cell_type": "code",
      "metadata": {
        "id": "Y8dZJsL-qaHu"
      },
      "source": [
        "# Tester le modèle:\n",
        "\n",
        "@tf.function\n",
        "def test_step(images, labels):\n",
        "  # training=False is only needed if there are layers with different\n",
        "  # behavior during training versus inference (e.g. Dropout).\n",
        "  predictions = model(images, training=False)\n",
        "  t_loss = loss_object(labels, predictions)\n",
        "\n",
        "  test_loss(t_loss)\n",
        "  test_accuracy(labels, predictions)"
      ],
      "execution_count": 65,
      "outputs": []
    },
    {
      "cell_type": "code",
      "metadata": {
        "colab": {
          "base_uri": "https://localhost:8080/"
        },
        "id": "flGv7lzYqtkH",
        "outputId": "3bc758a8-3982-4011-9246-97fe56732938"
      },
      "source": [
        "EPOCHS = 5\n",
        "\n",
        "for epoch in range(EPOCHS):\n",
        "  # Reset the metrics at the start of the next epoch\n",
        "  train_loss.reset_states()\n",
        "  train_accuracy.reset_states()\n",
        "  test_loss.reset_states()\n",
        "  test_accuracy.reset_states()\n",
        "\n",
        "  for images, labels in train_ds:\n",
        "    train_step(images, labels)\n",
        "\n",
        "  for test_images, test_labels in test_ds:\n",
        "    test_step(test_images, test_labels)\n",
        "\n",
        "  print(\n",
        "    f'Epoch {epoch + 1}, '\n",
        "    f'Loss: {train_loss.result()}, '\n",
        "    f'Accuracy: {train_accuracy.result() * 100}, '\n",
        "    f'Test Loss: {test_loss.result()}, '\n",
        "    f'Test Accuracy: {test_accuracy.result() * 100}'\n",
        "  )"
      ],
      "execution_count": 66,
      "outputs": [
        {
          "output_type": "stream",
          "text": [
            "Epoch 1, Loss: 0.14161892235279083, Accuracy: 95.81666564941406, Test Loss: 0.06076433137059212, Test Accuracy: 97.95999908447266\n",
            "Epoch 2, Loss: 0.0450141616165638, Accuracy: 98.57166290283203, Test Loss: 0.05423500016331673, Test Accuracy: 98.18999481201172\n",
            "Epoch 3, Loss: 0.022243330255150795, Accuracy: 99.288330078125, Test Loss: 0.06637278199195862, Test Accuracy: 98.13999938964844\n",
            "Epoch 4, Loss: 0.014920318499207497, Accuracy: 99.51166534423828, Test Loss: 0.06631532311439514, Test Accuracy: 98.12999725341797\n",
            "Epoch 5, Loss: 0.00861718226224184, Accuracy: 99.70333862304688, Test Loss: 0.07533921301364899, Test Accuracy: 98.1199951171875\n"
          ],
          "name": "stdout"
        }
      ]
    }
  ]
}
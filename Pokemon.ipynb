{
 "metadata": {
  "language_info": {
   "codemirror_mode": {
    "name": "ipython",
    "version": 3
   },
   "file_extension": ".py",
   "mimetype": "text/x-python",
   "name": "python",
   "nbconvert_exporter": "python",
   "pygments_lexer": "ipython3",
   "version": "3.8.3-final"
  },
  "orig_nbformat": 2,
  "kernelspec": {
   "name": "python3",
   "display_name": "Python 3",
   "language": "python"
  }
 },
 "nbformat": 4,
 "nbformat_minor": 2,
 "cells": [
  {
   "cell_type": "code",
   "execution_count": 57,
   "metadata": {},
   "outputs": [
    {
     "output_type": "stream",
     "name": "stdout",
     "text": [
      "   #                   Name Type 1  Type 2  HP  Attack  Defense  Sp. Atk  \\\n0  1              Bulbasaur  Grass  Poison  45      49       49       65   \n1  2                Ivysaur  Grass  Poison  60      62       63       80   \n2  3               Venusaur  Grass  Poison  80      82       83      100   \n3  3  VenusaurMega Venusaur  Grass  Poison  80     100      123      122   \n4  4             Charmander   Fire     NaN  39      52       43       60   \n\n   Sp. Def  Speed  Generation  Legendary  \n0       65     45           1      False  \n1       80     60           1      False  \n2      100     80           1      False  \n3      120     80           1      False  \n4       50     65           1      False  \n"
     ]
    }
   ],
   "source": [
    "#rehttps://github.com/CVandermies/AI_introduction\n",
    "import numpy as np\n",
    "import pandas as pd\n",
    "\n",
    "#1\n",
    "df = pd.read_csv('pokemon_data.csv')\n",
    "print(df.head())"
   ]
  },
  {
   "cell_type": "code",
   "execution_count": 68,
   "metadata": {},
   "outputs": [
    {
     "output_type": "stream",
     "name": "stdout",
     "text": [
      "\nNames column as a Series: \n\n0                  Bulbasaur\n1                    Ivysaur\n2                   Venusaur\n3      VenusaurMega Venusaur\n4                 Charmander\n               ...          \n795                  Diancie\n796      DiancieMega Diancie\n797      HoopaHoopa Confined\n798       HoopaHoopa Unbound\n799                Volcanion\nName: Name, Length: 800, dtype: object <class 'pandas.core.series.Series'>\n"
     ]
    }
   ],
   "source": [
    "#2\n",
    "s_names = df.iloc[:,1]\n",
    "print(\"\\nNames column as a Series: \\n\")\n",
    "print(s_names,type(s_names))"
   ]
  },
  {
   "cell_type": "code",
   "execution_count": 66,
   "metadata": {},
   "outputs": [
    {
     "output_type": "stream",
     "name": "stdout",
     "text": [
      "The max HP index is:  261\nThis corresponds to:  Blissey\n"
     ]
    }
   ],
   "source": [
    "#3 \n",
    "max_HP_index = df[\"HP\"].idxmax()\n",
    "print(\"The max HP index is: \",max_HP_index)\n",
    "max_HP_Pokemon = df[\"Name\"].iloc[max_HP_index]\n",
    "print(\"This corresponds to: \",max_HP_Pokemon)"
   ]
  },
  {
   "cell_type": "code",
   "execution_count": 60,
   "metadata": {},
   "outputs": [
    {
     "output_type": "stream",
     "name": "stdout",
     "text": [
      "   #                   Name Type 1  Type 2  HP  Attack  Defense  Sp. Atk  \\\n0  1              Bulbasaur  Grass  Poison  45      49       49       65   \n1  2                Ivysaur  Grass  Poison  60      62       63       80   \n2  3               Venusaur  Grass  Poison  80      82       83      100   \n3  3  VenusaurMega Venusaur  Grass  Poison  80     100      123      122   \n4  4             Charmander   Fire     NaN  39      52       43       60   \n\n   Sp. Def  Speed  Generation  Legendary  Atk Tot  Def Tot  \n0       65     45           1      False      114      114  \n1       80     60           1      False      142      143  \n2      100     80           1      False      182      183  \n3      120     80           1      False      222      243  \n4       50     65           1      False      112       93  \n"
     ]
    }
   ],
   "source": [
    "#4\n",
    "df[\"Atk Tot\"] = df[\"Attack\"] + df[\"Sp. Atk\"]\n",
    "df[\"Def Tot\"] = df[\"Defense\"] + df[\"Sp. Def\"]\n",
    "print(df.head())"
   ]
  },
  {
   "cell_type": "code",
   "execution_count": 61,
   "metadata": {},
   "outputs": [
    {
     "output_type": "stream",
     "name": "stdout",
     "text": [
      "       #                       Name Type 1    Type 2   HP  Attack  Defense  \\\n4      4                 Charmander   Fire       NaN   39      52       43   \n5      5                 Charmeleon   Fire       NaN   58      64       58   \n6      6                  Charizard   Fire    Flying   78      84       78   \n7      6  CharizardMega Charizard X   Fire    Dragon   78     130      111   \n8      6  CharizardMega Charizard Y   Fire    Flying   78     104       78   \n42    37                     Vulpix   Fire       NaN   38      41       40   \n43    38                  Ninetales   Fire       NaN   73      76       75   \n63    58                  Growlithe   Fire       NaN   55      70       45   \n64    59                   Arcanine   Fire       NaN   90     110       80   \n83    77                     Ponyta   Fire       NaN   50      85       55   \n84    78                   Rapidash   Fire       NaN   65     100       70   \n135  126                     Magmar   Fire       NaN   65      95       57   \n147  136                    Flareon   Fire       NaN   65     130       60   \n158  146                    Moltres   Fire    Flying   90     100       90   \n169  155                  Cyndaquil   Fire       NaN   39      52       43   \n170  156                    Quilava   Fire       NaN   58      64       58   \n171  157                 Typhlosion   Fire       NaN   78      84       78   \n236  218                     Slugma   Fire       NaN   40      40       40   \n237  219                   Magcargo   Fire      Rock   50      50      120   \n259  240                      Magby   Fire       NaN   45      75       37   \n263  244                      Entei   Fire       NaN  115     115       85   \n270  250                      Ho-oh   Fire    Flying  106     130       90   \n276  255                    Torchic   Fire       NaN   45      60       40   \n277  256                  Combusken   Fire  Fighting   60      85       60   \n278  257                   Blaziken   Fire  Fighting   80     120       70   \n279  257      BlazikenMega Blaziken   Fire  Fighting   80     160       80   \n352  322                      Numel   Fire    Ground   60      60       40   \n353  323                   Camerupt   Fire    Ground   70     100       70   \n354  323      CameruptMega Camerupt   Fire    Ground   70     120      100   \n355  324                    Torkoal   Fire       NaN   70      85      140   \n435  390                   Chimchar   Fire       NaN   44      58       44   \n436  391                   Monferno   Fire  Fighting   64      78       52   \n437  392                  Infernape   Fire  Fighting   76     104       71   \n518  467                  Magmortar   Fire       NaN   75      95       67   \n542  485                    Heatran   Fire     Steel   91      90      106   \n557  498                      Tepig   Fire       NaN   65      63       45   \n558  499                    Pignite   Fire  Fighting   90      93       55   \n559  500                     Emboar   Fire  Fighting  110     123       65   \n572  513                    Pansear   Fire       NaN   50      53       48   \n573  514                   Simisear   Fire       NaN   75      98       63   \n614  554                   Darumaka   Fire       NaN   70      90       45   \n615  555    DarmanitanStandard Mode   Fire       NaN  105     140       55   \n616  555         DarmanitanZen Mode   Fire   Psychic  105      30      105   \n692  631                    Heatmor   Fire       NaN   85      97       66   \n721  653                   Fennekin   Fire       NaN   40      45       40   \n722  654                    Braixen   Fire       NaN   59      59       58   \n723  655                    Delphox   Fire   Psychic   75      69       72   \n730  662                Fletchinder   Fire    Flying   62      73       55   \n731  663                 Talonflame   Fire    Flying   78      81       71   \n735  667                     Litleo   Fire    Normal   62      50       58   \n736  668                     Pyroar   Fire    Normal   86      68       72   \n799  721                  Volcanion   Fire     Water   80     110      120   \n\n     Sp. Atk  Sp. Def  Speed  Generation  Legendary  Atk Tot  Def Tot  \n4         60       50     65           1      False      112       93  \n5         80       65     80           1      False      144      123  \n6        109       85    100           1      False      193      163  \n7        130       85    100           1      False      260      196  \n8        159      115    100           1      False      263      193  \n42        50       65     65           1      False       91      105  \n43        81      100    100           1      False      157      175  \n63        70       50     60           1      False      140       95  \n64       100       80     95           1      False      210      160  \n83        65       65     90           1      False      150      120  \n84        80       80    105           1      False      180      150  \n135      100       85     93           1      False      195      142  \n147       95      110     65           1      False      225      170  \n158      125       85     90           1       True      225      175  \n169       60       50     65           2      False      112       93  \n170       80       65     80           2      False      144      123  \n171      109       85    100           2      False      193      163  \n236       70       40     20           2      False      110       80  \n237       80       80     30           2      False      130      200  \n259       70       55     83           2      False      145       92  \n263       90       75    100           2       True      205      160  \n270      110      154     90           2       True      240      244  \n276       70       50     45           3      False      130       90  \n277       85       60     55           3      False      170      120  \n278      110       70     80           3      False      230      140  \n279      130       80    100           3      False      290      160  \n352       65       45     35           3      False      125       85  \n353      105       75     40           3      False      205      145  \n354      145      105     20           3      False      265      205  \n355       85       70     20           3      False      170      210  \n435       58       44     61           4      False      116       88  \n436       78       52     81           4      False      156      104  \n437      104       71    108           4      False      208      142  \n518      125       95     83           4      False      220      162  \n542      130      106     77           4       True      220      212  \n557       45       45     45           5      False      108       90  \n558       70       55     55           5      False      163      110  \n559      100       65     65           5      False      223      130  \n572       53       48     64           5      False      106       96  \n573       98       63    101           5      False      196      126  \n614       15       45     50           5      False      105       90  \n615       30       55     95           5      False      170      110  \n616      140      105     55           5      False      170      210  \n692      105       66     65           5      False      202      132  \n721       62       60     60           6      False      107      100  \n722       90       70     73           6      False      149      128  \n723      114      100    104           6      False      183      172  \n730       56       52     84           6      False      129      107  \n731       74       69    126           6      False      155      140  \n735       73       54     72           6      False      123      112  \n736      109       66    106           6      False      177      138  \n799      130       90     70           6       True      240      210  \n"
     ]
    }
   ],
   "source": [
    "#5\n",
    "fire_df = df[df[\"Type 1\"] == \"Fire\"]\n",
    "print(fire_df)"
   ]
  },
  {
   "cell_type": "code",
   "execution_count": 71,
   "metadata": {},
   "outputs": [
    {
     "output_type": "stream",
     "name": "stdout",
     "text": [
      "3          VenusaurMega Venusaur\n7      CharizardMega Charizard X\n8      CharizardMega Charizard Y\n12       BlastoiseMega Blastoise\n19         BeedrillMega Beedrill\n23           PidgeotMega Pidgeot\n71         AlakazamMega Alakazam\n87           SlowbroMega Slowbro\n102            GengarMega Gengar\n124    KangaskhanMega Kangaskhan\n137            PinsirMega Pinsir\n141        GyaradosMega Gyarados\n154    AerodactylMega Aerodactyl\n163          MewtwoMega Mewtwo X\n164          MewtwoMega Mewtwo Y\n168                     Meganium\n196        AmpharosMega Ampharos\n224          SteelixMega Steelix\n229            ScizorMega Scizor\n232      HeracrossMega Heracross\n248        HoundoomMega Houndoom\n268      TyranitarMega Tyranitar\n275        SceptileMega Sceptile\n279        BlazikenMega Blaziken\n283        SwampertMega Swampert\n306      GardevoirMega Gardevoir\n327          SableyeMega Sableye\n329            MawileMega Mawile\n333            AggronMega Aggron\n336        MedichamMega Medicham\n339      ManectricMega Manectric\n349        SharpedoMega Sharpedo\n354        CameruptMega Camerupt\n366          AltariaMega Altaria\n387          BanetteMega Banette\n393              AbsolMega Absol\n397            GlalieMega Glalie\n409      SalamenceMega Salamence\n413      MetagrossMega Metagross\n418            LatiasMega Latias\n420            LatiosMega Latios\n426        RayquazaMega Rayquaza\n476          LopunnyMega Lopunny\n494        GarchompMega Garchomp\n498          LucarioMega Lucario\n511      AbomasnowMega Abomasnow\n527          GalladeMega Gallade\n591            AudinoMega Audino\n796          DiancieMega Diancie\nName: Name, dtype: object <class 'pandas.core.series.Series'>\n"
     ]
    }
   ],
   "source": [
    "#6\n",
    "s_mega = df[s_names.str.contains(\"Mega\")][\"Name\"]\n",
    "print(s_mega,type(s_mega))"
   ]
  },
  {
   "cell_type": "code",
   "execution_count": 63,
   "metadata": {},
   "outputs": [
    {
     "output_type": "execute_result",
     "data": {
      "text/plain": [
       "       #                   Name   Type 1  Type 2  HP  Attack  Defense  \\\n",
       "0      1              Bulbasaur    Grass  Poison  45      49       49   \n",
       "1      2                Ivysaur    Grass  Poison  60      62       63   \n",
       "2      3               Venusaur    Grass  Poison  80      82       83   \n",
       "3      3  VenusaurMega Venusaur    Grass  Poison  80     100      123   \n",
       "4      4             Charmander     Fire     NaN  39      52       43   \n",
       "..   ...                    ...      ...     ...  ..     ...      ...   \n",
       "795  719                Diancie     Rock   Fairy  50     100      150   \n",
       "796  719    DiancieMega Diancie     Rock   Fairy  50     160      110   \n",
       "797  720    HoopaHoopa Confined  Psychic   Ghost  80     110       60   \n",
       "798  720     HoopaHoopa Unbound  Psychic    Dark  80     160       60   \n",
       "799  721              Volcanion     Fire   Water  80     110      120   \n",
       "\n",
       "     Sp. Atk  Sp. Def  Speed  Generation  Legendary  Atk Tot  Def Tot  \\\n",
       "0         65       65     45           1      False      114      114   \n",
       "1         80       80     60           1      False      142      143   \n",
       "2        100      100     80           1      False      182      183   \n",
       "3        122      120     80           1      False      222      243   \n",
       "4         60       50     65           1      False      112       93   \n",
       "..       ...      ...    ...         ...        ...      ...      ...   \n",
       "795      100      150     50           6       True      200      300   \n",
       "796      160      110    110           6       True      320      220   \n",
       "797      150      130     70           6       True      260      190   \n",
       "798      170      130     80           6       True      330      190   \n",
       "799      130       90     70           6       True      240      210   \n",
       "\n",
       "         Rank  \n",
       "0        Weak  \n",
       "1        Weak  \n",
       "2      Strong  \n",
       "3      Strong  \n",
       "4        Weak  \n",
       "..        ...  \n",
       "795    Strong  \n",
       "796    Strong  \n",
       "797  Standard  \n",
       "798  Standard  \n",
       "799    Strong  \n",
       "\n",
       "[800 rows x 15 columns]"
      ],
      "text/html": "<div>\n<style scoped>\n    .dataframe tbody tr th:only-of-type {\n        vertical-align: middle;\n    }\n\n    .dataframe tbody tr th {\n        vertical-align: top;\n    }\n\n    .dataframe thead th {\n        text-align: right;\n    }\n</style>\n<table border=\"1\" class=\"dataframe\">\n  <thead>\n    <tr style=\"text-align: right;\">\n      <th></th>\n      <th>#</th>\n      <th>Name</th>\n      <th>Type 1</th>\n      <th>Type 2</th>\n      <th>HP</th>\n      <th>Attack</th>\n      <th>Defense</th>\n      <th>Sp. Atk</th>\n      <th>Sp. Def</th>\n      <th>Speed</th>\n      <th>Generation</th>\n      <th>Legendary</th>\n      <th>Atk Tot</th>\n      <th>Def Tot</th>\n      <th>Rank</th>\n    </tr>\n  </thead>\n  <tbody>\n    <tr>\n      <th>0</th>\n      <td>1</td>\n      <td>Bulbasaur</td>\n      <td>Grass</td>\n      <td>Poison</td>\n      <td>45</td>\n      <td>49</td>\n      <td>49</td>\n      <td>65</td>\n      <td>65</td>\n      <td>45</td>\n      <td>1</td>\n      <td>False</td>\n      <td>114</td>\n      <td>114</td>\n      <td>Weak</td>\n    </tr>\n    <tr>\n      <th>1</th>\n      <td>2</td>\n      <td>Ivysaur</td>\n      <td>Grass</td>\n      <td>Poison</td>\n      <td>60</td>\n      <td>62</td>\n      <td>63</td>\n      <td>80</td>\n      <td>80</td>\n      <td>60</td>\n      <td>1</td>\n      <td>False</td>\n      <td>142</td>\n      <td>143</td>\n      <td>Weak</td>\n    </tr>\n    <tr>\n      <th>2</th>\n      <td>3</td>\n      <td>Venusaur</td>\n      <td>Grass</td>\n      <td>Poison</td>\n      <td>80</td>\n      <td>82</td>\n      <td>83</td>\n      <td>100</td>\n      <td>100</td>\n      <td>80</td>\n      <td>1</td>\n      <td>False</td>\n      <td>182</td>\n      <td>183</td>\n      <td>Strong</td>\n    </tr>\n    <tr>\n      <th>3</th>\n      <td>3</td>\n      <td>VenusaurMega Venusaur</td>\n      <td>Grass</td>\n      <td>Poison</td>\n      <td>80</td>\n      <td>100</td>\n      <td>123</td>\n      <td>122</td>\n      <td>120</td>\n      <td>80</td>\n      <td>1</td>\n      <td>False</td>\n      <td>222</td>\n      <td>243</td>\n      <td>Strong</td>\n    </tr>\n    <tr>\n      <th>4</th>\n      <td>4</td>\n      <td>Charmander</td>\n      <td>Fire</td>\n      <td>NaN</td>\n      <td>39</td>\n      <td>52</td>\n      <td>43</td>\n      <td>60</td>\n      <td>50</td>\n      <td>65</td>\n      <td>1</td>\n      <td>False</td>\n      <td>112</td>\n      <td>93</td>\n      <td>Weak</td>\n    </tr>\n    <tr>\n      <th>...</th>\n      <td>...</td>\n      <td>...</td>\n      <td>...</td>\n      <td>...</td>\n      <td>...</td>\n      <td>...</td>\n      <td>...</td>\n      <td>...</td>\n      <td>...</td>\n      <td>...</td>\n      <td>...</td>\n      <td>...</td>\n      <td>...</td>\n      <td>...</td>\n      <td>...</td>\n    </tr>\n    <tr>\n      <th>795</th>\n      <td>719</td>\n      <td>Diancie</td>\n      <td>Rock</td>\n      <td>Fairy</td>\n      <td>50</td>\n      <td>100</td>\n      <td>150</td>\n      <td>100</td>\n      <td>150</td>\n      <td>50</td>\n      <td>6</td>\n      <td>True</td>\n      <td>200</td>\n      <td>300</td>\n      <td>Strong</td>\n    </tr>\n    <tr>\n      <th>796</th>\n      <td>719</td>\n      <td>DiancieMega Diancie</td>\n      <td>Rock</td>\n      <td>Fairy</td>\n      <td>50</td>\n      <td>160</td>\n      <td>110</td>\n      <td>160</td>\n      <td>110</td>\n      <td>110</td>\n      <td>6</td>\n      <td>True</td>\n      <td>320</td>\n      <td>220</td>\n      <td>Strong</td>\n    </tr>\n    <tr>\n      <th>797</th>\n      <td>720</td>\n      <td>HoopaHoopa Confined</td>\n      <td>Psychic</td>\n      <td>Ghost</td>\n      <td>80</td>\n      <td>110</td>\n      <td>60</td>\n      <td>150</td>\n      <td>130</td>\n      <td>70</td>\n      <td>6</td>\n      <td>True</td>\n      <td>260</td>\n      <td>190</td>\n      <td>Standard</td>\n    </tr>\n    <tr>\n      <th>798</th>\n      <td>720</td>\n      <td>HoopaHoopa Unbound</td>\n      <td>Psychic</td>\n      <td>Dark</td>\n      <td>80</td>\n      <td>160</td>\n      <td>60</td>\n      <td>170</td>\n      <td>130</td>\n      <td>80</td>\n      <td>6</td>\n      <td>True</td>\n      <td>330</td>\n      <td>190</td>\n      <td>Standard</td>\n    </tr>\n    <tr>\n      <th>799</th>\n      <td>721</td>\n      <td>Volcanion</td>\n      <td>Fire</td>\n      <td>Water</td>\n      <td>80</td>\n      <td>110</td>\n      <td>120</td>\n      <td>130</td>\n      <td>90</td>\n      <td>70</td>\n      <td>6</td>\n      <td>True</td>\n      <td>240</td>\n      <td>210</td>\n      <td>Strong</td>\n    </tr>\n  </tbody>\n</table>\n<p>800 rows × 15 columns</p>\n</div>"
     },
     "metadata": {},
     "execution_count": 63
    }
   ],
   "source": [
    "#7\n",
    "atk_mean = df[\"Attack\"].mean()\n",
    "def_mean = df[\"Defense\"].mean()\n",
    "\n",
    "strong_bool = (df['Attack']>=atk_mean) & (df['Defense']>=def_mean)\n",
    "weak_bool = (df['Attack']<atk_mean) & (df['Defense']<def_mean)\n",
    "\n",
    "df.loc[strong_bool, \"Rank\"] = \"Strong\"\n",
    "df.loc[weak_bool, \"Rank\"] = \"Weak\"\n",
    "df[\"Rank\"] = df[\"Rank\"].fillna(\"Standard\")\n",
    "df"
   ]
  },
  {
   "cell_type": "code",
   "execution_count": 64,
   "metadata": {},
   "outputs": [
    {
     "output_type": "stream",
     "name": "stdout",
     "text": [
      "Water       112\nNormal       98\nGrass        70\nBug          69\nPsychic      57\nFire         52\nRock         44\nElectric     44\nGhost        32\nGround       32\nDragon       32\nDark         31\nPoison       28\nFighting     27\nSteel        27\nIce          24\nFairy        17\nFlying        4\nName: Type 1, dtype: int64 <class 'pandas.core.series.Series'>\n"
     ]
    }
   ],
   "source": [
    "#8\n",
    "s_types_count = df[\"Type 1\"].value_counts()\n",
    "print(s_types_count, type(s_types_count))"
   ]
  },
  {
   "cell_type": "code",
   "execution_count": 101,
   "metadata": {},
   "outputs": [
    {
     "output_type": "stream",
     "name": "stdout",
     "text": [
      "161 sur 843 hommes ont survécu. Cela correspond à un taux de 19.1%.\n339 sur 466 femmes ont survécu. Cela correspond à un taux de 72.75%.\n"
     ]
    }
   ],
   "source": [
    "#9.1\n",
    "df2 = pd.read_csv(\"titanic3.csv\", sep=\";\")\n",
    "\n",
    "#male\n",
    "df_male = df2[(df2[\"sex\"] == \"male\")]\n",
    "male_count = df_male[\"sex\"].count()\n",
    "male_survived = df_male[df_male[\"survived\"] == 1].count()[\"survived\"]\n",
    "male_rate = round(male_survived / male_count, 4)*100\n",
    " \n",
    "#female\n",
    "df_female = df2[(df2[\"sex\"] == \"female\")]\n",
    "female_count = df_female[\"sex\"].count()\n",
    "female_survived = df_female[df_female[\"survived\"] == 1].count()[\"survived\"]\n",
    "female_rate = round(female_survived / female_count, 4)*100\n",
    "\n",
    "print(\"{0} sur {1} hommes ont survécu. Cela correspond à un taux de {2}%.\".format(male_survived, male_count, male_rate))\n",
    "print(\"{0} sur {1} femmes ont survécu. Cela correspond à un taux de {2}%.\".format(female_survived, female_count, female_rate))"
   ]
  },
  {
   "cell_type": "code",
   "execution_count": null,
   "metadata": {},
   "outputs": [],
   "source": []
  }
 ]
}
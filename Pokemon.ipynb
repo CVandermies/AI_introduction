{
 "metadata": {
  "language_info": {
   "codemirror_mode": {
    "name": "ipython",
    "version": 3
   },
   "file_extension": ".py",
   "mimetype": "text/x-python",
   "name": "python",
   "nbconvert_exporter": "python",
   "pygments_lexer": "ipython3",
   "version": "3.8.3-final"
  },
  "orig_nbformat": 2,
  "kernelspec": {
   "name": "python3",
   "display_name": "Python 3.8.3 64-bit ('ProgramData': virtualenv)",
   "metadata": {
    "interpreter": {
     "hash": "b3ba2566441a7c06988d0923437866b63cedc61552a5af99d1f4fb67d367b25f"
    }
   }
  }
 },
 "nbformat": 4,
 "nbformat_minor": 2,
 "cells": [
  {
   "cell_type": "code",
   "execution_count": 2,
   "metadata": {},
   "outputs": [
    {
     "output_type": "stream",
     "name": "stdout",
     "text": [
      "   #                   Name Type 1  ... Speed  Generation  Legendary\n0  1              Bulbasaur  Grass  ...    45           1      False\n1  2                Ivysaur  Grass  ...    60           1      False\n2  3               Venusaur  Grass  ...    80           1      False\n3  3  VenusaurMega Venusaur  Grass  ...    80           1      False\n4  4             Charmander   Fire  ...    65           1      False\n\n[5 rows x 12 columns]\n"
     ]
    }
   ],
   "source": [
    "import numpy as np\n",
    "import pandas as pd\n",
    "\n",
    "#1\n",
    "df = pd.read_csv('pokemon_data.csv')\n",
    "print(df.head())"
   ]
  },
  {
   "cell_type": "code",
   "execution_count": 9,
   "metadata": {},
   "outputs": [
    {
     "output_type": "stream",
     "name": "stdout",
     "text": [
      "\nNames column as a Series: \n\n0                  Bulbasaur\n1                    Ivysaur\n2                   Venusaur\n3      VenusaurMega Venusaur\n4                 Charmander\n               ...          \n795                  Diancie\n796      DiancieMega Diancie\n797      HoopaHoopa Confined\n798       HoopaHoopa Unbound\n799                Volcanion\nName: Name, Length: 800, dtype: object\n<class 'pandas.core.series.Series'>\n"
     ]
    }
   ],
   "source": [
    "#2\n",
    "s_names = df.iloc[:,1]\n",
    "print(\"\\nNames column as a Series: \\n\")\n",
    "print(s_names)\n",
    "print(type(s_names))"
   ]
  },
  {
   "cell_type": "code",
   "execution_count": 15,
   "metadata": {},
   "outputs": [
    {
     "output_type": "stream",
     "name": "stdout",
     "text": [
      "The max HP index is:  261\nThis corresponds to:  Blissey\n"
     ]
    }
   ],
   "source": [
    "#3\n",
    "HP_column = df[\"HP\"]\n",
    "max_HP_index = HP_column.idxmax()\n",
    "print(\"The max HP index is: \",max_HP_index)\n",
    "max_HP_Pokemon = df[\"Name\"].iloc[max_HP_index]\n",
    "print(\"This corresponds to: \",max_HP_Pokemon)"
   ]
  },
  {
   "cell_type": "code",
   "execution_count": 17,
   "metadata": {},
   "outputs": [
    {
     "output_type": "stream",
     "name": "stdout",
     "text": [
      "   #                   Name Type 1  ... Legendary  Atk Tot  Def Tot\n0  1              Bulbasaur  Grass  ...     False      114      114\n1  2                Ivysaur  Grass  ...     False      142      143\n2  3               Venusaur  Grass  ...     False      182      183\n3  3  VenusaurMega Venusaur  Grass  ...     False      222      243\n4  4             Charmander   Fire  ...     False      112       93\n\n[5 rows x 14 columns]\n"
     ]
    }
   ],
   "source": [
    "#4\n",
    "Atk_sp_column = df[\"Attack\"] + df[\"Sp. Atk\"]\n",
    "Def_sp_column = df[\"Defense\"] + df[\"Sp. Def\"]\n",
    "df[\"Atk Tot\"] = Atk_sp_column\n",
    "df[\"Def Tot\"] = Def_sp_column\n",
    "print(df.head())"
   ]
  },
  {
   "cell_type": "code",
   "execution_count": 18,
   "metadata": {},
   "outputs": [
    {
     "output_type": "stream",
     "name": "stdout",
     "text": [
      "       #                       Name Type 1  ... Legendary  Atk Tot  Def Tot\n4      4                 Charmander   Fire  ...     False      112       93\n5      5                 Charmeleon   Fire  ...     False      144      123\n6      6                  Charizard   Fire  ...     False      193      163\n7      6  CharizardMega Charizard X   Fire  ...     False      260      196\n8      6  CharizardMega Charizard Y   Fire  ...     False      263      193\n42    37                     Vulpix   Fire  ...     False       91      105\n43    38                  Ninetales   Fire  ...     False      157      175\n63    58                  Growlithe   Fire  ...     False      140       95\n64    59                   Arcanine   Fire  ...     False      210      160\n83    77                     Ponyta   Fire  ...     False      150      120\n84    78                   Rapidash   Fire  ...     False      180      150\n135  126                     Magmar   Fire  ...     False      195      142\n147  136                    Flareon   Fire  ...     False      225      170\n158  146                    Moltres   Fire  ...      True      225      175\n169  155                  Cyndaquil   Fire  ...     False      112       93\n170  156                    Quilava   Fire  ...     False      144      123\n171  157                 Typhlosion   Fire  ...     False      193      163\n236  218                     Slugma   Fire  ...     False      110       80\n237  219                   Magcargo   Fire  ...     False      130      200\n259  240                      Magby   Fire  ...     False      145       92\n263  244                      Entei   Fire  ...      True      205      160\n270  250                      Ho-oh   Fire  ...      True      240      244\n276  255                    Torchic   Fire  ...     False      130       90\n277  256                  Combusken   Fire  ...     False      170      120\n278  257                   Blaziken   Fire  ...     False      230      140\n279  257      BlazikenMega Blaziken   Fire  ...     False      290      160\n352  322                      Numel   Fire  ...     False      125       85\n353  323                   Camerupt   Fire  ...     False      205      145\n354  323      CameruptMega Camerupt   Fire  ...     False      265      205\n355  324                    Torkoal   Fire  ...     False      170      210\n435  390                   Chimchar   Fire  ...     False      116       88\n436  391                   Monferno   Fire  ...     False      156      104\n437  392                  Infernape   Fire  ...     False      208      142\n518  467                  Magmortar   Fire  ...     False      220      162\n542  485                    Heatran   Fire  ...      True      220      212\n557  498                      Tepig   Fire  ...     False      108       90\n558  499                    Pignite   Fire  ...     False      163      110\n559  500                     Emboar   Fire  ...     False      223      130\n572  513                    Pansear   Fire  ...     False      106       96\n573  514                   Simisear   Fire  ...     False      196      126\n614  554                   Darumaka   Fire  ...     False      105       90\n615  555    DarmanitanStandard Mode   Fire  ...     False      170      110\n616  555         DarmanitanZen Mode   Fire  ...     False      170      210\n692  631                    Heatmor   Fire  ...     False      202      132\n721  653                   Fennekin   Fire  ...     False      107      100\n722  654                    Braixen   Fire  ...     False      149      128\n723  655                    Delphox   Fire  ...     False      183      172\n730  662                Fletchinder   Fire  ...     False      129      107\n731  663                 Talonflame   Fire  ...     False      155      140\n735  667                     Litleo   Fire  ...     False      123      112\n736  668                     Pyroar   Fire  ...     False      177      138\n799  721                  Volcanion   Fire  ...      True      240      210\n\n[52 rows x 14 columns]\n"
     ]
    }
   ],
   "source": [
    "#5\n",
    "fire_df = df[(df[\"Type 1\"] == \"Fire\")]\n",
    "print(fire_df)"
   ]
  },
  {
   "cell_type": "code",
   "execution_count": 24,
   "metadata": {},
   "outputs": [
    {
     "output_type": "stream",
     "name": "stdout",
     "text": [
      "3          VenusaurMega Venusaur\n7      CharizardMega Charizard X\n8      CharizardMega Charizard Y\n12       BlastoiseMega Blastoise\n19         BeedrillMega Beedrill\n23           PidgeotMega Pidgeot\n71         AlakazamMega Alakazam\n87           SlowbroMega Slowbro\n102            GengarMega Gengar\n124    KangaskhanMega Kangaskhan\n137            PinsirMega Pinsir\n141        GyaradosMega Gyarados\n154    AerodactylMega Aerodactyl\n163          MewtwoMega Mewtwo X\n164          MewtwoMega Mewtwo Y\n168                     Meganium\n196        AmpharosMega Ampharos\n224          SteelixMega Steelix\n229            ScizorMega Scizor\n232      HeracrossMega Heracross\n248        HoundoomMega Houndoom\n268      TyranitarMega Tyranitar\n275        SceptileMega Sceptile\n279        BlazikenMega Blaziken\n283        SwampertMega Swampert\n306      GardevoirMega Gardevoir\n327          SableyeMega Sableye\n329            MawileMega Mawile\n333            AggronMega Aggron\n336        MedichamMega Medicham\n339      ManectricMega Manectric\n349        SharpedoMega Sharpedo\n354        CameruptMega Camerupt\n366          AltariaMega Altaria\n387          BanetteMega Banette\n393              AbsolMega Absol\n397            GlalieMega Glalie\n409      SalamenceMega Salamence\n413      MetagrossMega Metagross\n418            LatiasMega Latias\n420            LatiosMega Latios\n426        RayquazaMega Rayquaza\n476          LopunnyMega Lopunny\n494        GarchompMega Garchomp\n498          LucarioMega Lucario\n511      AbomasnowMega Abomasnow\n527          GalladeMega Gallade\n591            AudinoMega Audino\n796          DiancieMega Diancie\nName: Name, dtype: object <class 'pandas.core.series.Series'>\n"
     ]
    }
   ],
   "source": [
    "#6\n",
    "s_mega = df[s_names.str.contains(\"Mega\")]\n",
    "s_mega = s_mega[\"Name\"]\n",
    "print(s_mega,type(s_mega))"
   ]
  },
  {
   "cell_type": "code",
   "execution_count": 46,
   "metadata": {},
   "outputs": [
    {
     "output_type": "execute_result",
     "data": {
      "text/plain": [
       "       #                   Name   Type 1  ... Atk Tot  Def Tot      Rank\n",
       "0      1              Bulbasaur    Grass  ...     114      114      Weak\n",
       "1      2                Ivysaur    Grass  ...     142      143      Weak\n",
       "2      3               Venusaur    Grass  ...     182      183    Strong\n",
       "3      3  VenusaurMega Venusaur    Grass  ...     222      243    Strong\n",
       "4      4             Charmander     Fire  ...     112       93      Weak\n",
       "..   ...                    ...      ...  ...     ...      ...       ...\n",
       "795  719                Diancie     Rock  ...     200      300    Strong\n",
       "796  719    DiancieMega Diancie     Rock  ...     320      220    Strong\n",
       "797  720    HoopaHoopa Confined  Psychic  ...     260      190  Standard\n",
       "798  720     HoopaHoopa Unbound  Psychic  ...     330      190  Standard\n",
       "799  721              Volcanion     Fire  ...     240      210    Strong\n",
       "\n",
       "[800 rows x 15 columns]"
      ],
      "text/html": "<div>\n<style scoped>\n    .dataframe tbody tr th:only-of-type {\n        vertical-align: middle;\n    }\n\n    .dataframe tbody tr th {\n        vertical-align: top;\n    }\n\n    .dataframe thead th {\n        text-align: right;\n    }\n</style>\n<table border=\"1\" class=\"dataframe\">\n  <thead>\n    <tr style=\"text-align: right;\">\n      <th></th>\n      <th>#</th>\n      <th>Name</th>\n      <th>Type 1</th>\n      <th>Type 2</th>\n      <th>HP</th>\n      <th>Attack</th>\n      <th>Defense</th>\n      <th>Sp. Atk</th>\n      <th>Sp. Def</th>\n      <th>Speed</th>\n      <th>Generation</th>\n      <th>Legendary</th>\n      <th>Atk Tot</th>\n      <th>Def Tot</th>\n      <th>Rank</th>\n    </tr>\n  </thead>\n  <tbody>\n    <tr>\n      <th>0</th>\n      <td>1</td>\n      <td>Bulbasaur</td>\n      <td>Grass</td>\n      <td>Poison</td>\n      <td>45</td>\n      <td>49</td>\n      <td>49</td>\n      <td>65</td>\n      <td>65</td>\n      <td>45</td>\n      <td>1</td>\n      <td>False</td>\n      <td>114</td>\n      <td>114</td>\n      <td>Weak</td>\n    </tr>\n    <tr>\n      <th>1</th>\n      <td>2</td>\n      <td>Ivysaur</td>\n      <td>Grass</td>\n      <td>Poison</td>\n      <td>60</td>\n      <td>62</td>\n      <td>63</td>\n      <td>80</td>\n      <td>80</td>\n      <td>60</td>\n      <td>1</td>\n      <td>False</td>\n      <td>142</td>\n      <td>143</td>\n      <td>Weak</td>\n    </tr>\n    <tr>\n      <th>2</th>\n      <td>3</td>\n      <td>Venusaur</td>\n      <td>Grass</td>\n      <td>Poison</td>\n      <td>80</td>\n      <td>82</td>\n      <td>83</td>\n      <td>100</td>\n      <td>100</td>\n      <td>80</td>\n      <td>1</td>\n      <td>False</td>\n      <td>182</td>\n      <td>183</td>\n      <td>Strong</td>\n    </tr>\n    <tr>\n      <th>3</th>\n      <td>3</td>\n      <td>VenusaurMega Venusaur</td>\n      <td>Grass</td>\n      <td>Poison</td>\n      <td>80</td>\n      <td>100</td>\n      <td>123</td>\n      <td>122</td>\n      <td>120</td>\n      <td>80</td>\n      <td>1</td>\n      <td>False</td>\n      <td>222</td>\n      <td>243</td>\n      <td>Strong</td>\n    </tr>\n    <tr>\n      <th>4</th>\n      <td>4</td>\n      <td>Charmander</td>\n      <td>Fire</td>\n      <td>NaN</td>\n      <td>39</td>\n      <td>52</td>\n      <td>43</td>\n      <td>60</td>\n      <td>50</td>\n      <td>65</td>\n      <td>1</td>\n      <td>False</td>\n      <td>112</td>\n      <td>93</td>\n      <td>Weak</td>\n    </tr>\n    <tr>\n      <th>...</th>\n      <td>...</td>\n      <td>...</td>\n      <td>...</td>\n      <td>...</td>\n      <td>...</td>\n      <td>...</td>\n      <td>...</td>\n      <td>...</td>\n      <td>...</td>\n      <td>...</td>\n      <td>...</td>\n      <td>...</td>\n      <td>...</td>\n      <td>...</td>\n      <td>...</td>\n    </tr>\n    <tr>\n      <th>795</th>\n      <td>719</td>\n      <td>Diancie</td>\n      <td>Rock</td>\n      <td>Fairy</td>\n      <td>50</td>\n      <td>100</td>\n      <td>150</td>\n      <td>100</td>\n      <td>150</td>\n      <td>50</td>\n      <td>6</td>\n      <td>True</td>\n      <td>200</td>\n      <td>300</td>\n      <td>Strong</td>\n    </tr>\n    <tr>\n      <th>796</th>\n      <td>719</td>\n      <td>DiancieMega Diancie</td>\n      <td>Rock</td>\n      <td>Fairy</td>\n      <td>50</td>\n      <td>160</td>\n      <td>110</td>\n      <td>160</td>\n      <td>110</td>\n      <td>110</td>\n      <td>6</td>\n      <td>True</td>\n      <td>320</td>\n      <td>220</td>\n      <td>Strong</td>\n    </tr>\n    <tr>\n      <th>797</th>\n      <td>720</td>\n      <td>HoopaHoopa Confined</td>\n      <td>Psychic</td>\n      <td>Ghost</td>\n      <td>80</td>\n      <td>110</td>\n      <td>60</td>\n      <td>150</td>\n      <td>130</td>\n      <td>70</td>\n      <td>6</td>\n      <td>True</td>\n      <td>260</td>\n      <td>190</td>\n      <td>Standard</td>\n    </tr>\n    <tr>\n      <th>798</th>\n      <td>720</td>\n      <td>HoopaHoopa Unbound</td>\n      <td>Psychic</td>\n      <td>Dark</td>\n      <td>80</td>\n      <td>160</td>\n      <td>60</td>\n      <td>170</td>\n      <td>130</td>\n      <td>80</td>\n      <td>6</td>\n      <td>True</td>\n      <td>330</td>\n      <td>190</td>\n      <td>Standard</td>\n    </tr>\n    <tr>\n      <th>799</th>\n      <td>721</td>\n      <td>Volcanion</td>\n      <td>Fire</td>\n      <td>Water</td>\n      <td>80</td>\n      <td>110</td>\n      <td>120</td>\n      <td>130</td>\n      <td>90</td>\n      <td>70</td>\n      <td>6</td>\n      <td>True</td>\n      <td>240</td>\n      <td>210</td>\n      <td>Strong</td>\n    </tr>\n  </tbody>\n</table>\n<p>800 rows × 15 columns</p>\n</div>"
     },
     "metadata": {},
     "execution_count": 46
    }
   ],
   "source": [
    "#7\n",
    "atk_mean = df[\"Attack\"].mean()\n",
    "def_mean = df[\"Defense\"].mean()\n",
    "strong_bool = (df['Attack']>=atk_mean) & (df['Defense']>=def_mean)\n",
    "weak_bool = (df['Attack']<atk_mean) & (df['Defense']<def_mean)\n",
    "df.loc[strong_bool, \"Rank\"] = \"Strong\"\n",
    "df.loc[weak_bool, \"Rank\"] = \"Weak\"\n",
    "df[\"Rank\"] = df[\"Rank\"].fillna(\"Standard\")\n",
    "df"
   ]
  },
  {
   "cell_type": "code",
   "execution_count": null,
   "metadata": {},
   "outputs": [],
   "source": []
  }
 ]
}